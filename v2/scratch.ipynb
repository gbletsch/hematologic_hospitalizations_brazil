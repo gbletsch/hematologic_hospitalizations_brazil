{
 "cells": [
  {
   "cell_type": "markdown",
   "metadata": {
    "toc": true
   },
   "source": [
    "<h1>Table of Contents<span class=\"tocSkip\"></span></h1>\n",
    "<div class=\"toc\"><ul class=\"toc-item\"><li><span><a href=\"#Preparing-files\" data-toc-modified-id=\"Preparing-files-1\"><span class=\"toc-item-num\">1&nbsp;&nbsp;</span>Preparing files</a></span><ul class=\"toc-item\"><li><span><a href=\"#Evolução-internações-por-doença\" data-toc-modified-id=\"Evolução-internações-por-doença-1.1\"><span class=\"toc-item-num\">1.1&nbsp;&nbsp;</span>Evolução internações por doença</a></span></li><li><span><a href=\"#Mortalidade\" data-toc-modified-id=\"Mortalidade-1.2\"><span class=\"toc-item-num\">1.2&nbsp;&nbsp;</span>Mortalidade</a></span></li><li><span><a href=\"#Distribuição-de-idade\" data-toc-modified-id=\"Distribuição-de-idade-1.3\"><span class=\"toc-item-num\">1.3&nbsp;&nbsp;</span>Distribuição de idade</a></span></li><li><span><a href=\"#Custo-das-internações\" data-toc-modified-id=\"Custo-das-internações-1.4\"><span class=\"toc-item-num\">1.4&nbsp;&nbsp;</span>Custo das internações</a></span></li></ul></li></ul></div>"
   ]
  },
  {
   "cell_type": "code",
   "execution_count": 1,
   "metadata": {
    "ExecuteTime": {
     "end_time": "2019-08-06T21:41:37.909680Z",
     "start_time": "2019-08-06T21:41:37.252149Z"
    }
   },
   "outputs": [],
   "source": [
    "from tools import *\n",
    "\n",
    "pd.set_option('display.max_colwidth', 200)\n",
    "pd.set_option('display.max_columns', 100)\n",
    "pd.set_option('display.max_rows', 100)\n",
    "\n",
    "import seaborn as sns; sns.set()\n",
    "import matplotlib.pyplot as plt\n",
    "\n",
    "%matplotlib inline\n",
    "\n",
    "import ipywidgets as widgets\n",
    "from ipywidgets import interact, interact_manual"
   ]
  },
  {
   "cell_type": "code",
   "execution_count": null,
   "metadata": {},
   "outputs": [],
   "source": []
  },
  {
   "cell_type": "markdown",
   "metadata": {},
   "source": [
    "# Preparing files"
   ]
  },
  {
   "cell_type": "code",
   "execution_count": 2,
   "metadata": {
    "ExecuteTime": {
     "end_time": "2019-08-06T21:41:38.393659Z",
     "start_time": "2019-08-06T21:41:37.913489Z"
    }
   },
   "outputs": [],
   "source": [
    "sex_map, cnes_map, uf_map, cid_map, et_map, \\\n",
    "financ_map, cbo_map, comp_map, mun_map, caratend_map = make_maps()"
   ]
  },
  {
   "cell_type": "code",
   "execution_count": 3,
   "metadata": {
    "ExecuteTime": {
     "end_time": "2019-08-06T21:41:38.397536Z",
     "start_time": "2019-08-06T21:41:38.395427Z"
    }
   },
   "outputs": [],
   "source": [
    "# download_all() # uncomment to download all files\n",
    "# make_hemato_ds() # uncomment to fetch a new hemato ds"
   ]
  },
  {
   "cell_type": "code",
   "execution_count": 4,
   "metadata": {
    "ExecuteTime": {
     "end_time": "2019-08-06T21:41:40.886495Z",
     "start_time": "2019-08-06T21:41:38.399997Z"
    }
   },
   "outputs": [],
   "source": [
    "pop_df = pop_ibge()"
   ]
  },
  {
   "cell_type": "code",
   "execution_count": 5,
   "metadata": {
    "ExecuteTime": {
     "end_time": "2019-08-06T21:41:47.217434Z",
     "start_time": "2019-08-06T21:41:40.888882Z"
    }
   },
   "outputs": [
    {
     "name": "stdout",
     "output_type": "stream",
     "text": [
      "Optimizing df...\n",
      "\n",
      "Original df size: Total memory usage: 435.46 MB\n",
      "Optimized df size: Total memory usage: 52.20 MB\n"
     ]
    }
   ],
   "source": [
    "hemato = open_hemato_df()\n",
    "hemato.UF_ZI = hemato.UF_ZI.map(uf_map)\n",
    "hemato['DESCR_CID'] = hemato.DIAG_PRINC.map(cid_map)\n",
    "hemato[['UF_ZI', 'DESCR_CID']] = hemato[['UF_ZI', 'DESCR_CID']].astype('category')"
   ]
  },
  {
   "cell_type": "markdown",
   "metadata": {},
   "source": [
    "## Evolução internações por doença"
   ]
  },
  {
   "cell_type": "code",
   "execution_count": 7,
   "metadata": {
    "ExecuteTime": {
     "end_time": "2019-08-06T21:42:07.891444Z",
     "start_time": "2019-08-06T21:42:07.541599Z"
    }
   },
   "outputs": [
    {
     "data": {
      "application/vnd.jupyter.widget-view+json": {
       "model_id": "487b23689ec7476090e666f7e91abdaf",
       "version_major": 2,
       "version_minor": 0
      },
      "text/plain": [
       "interactive(children=(Dropdown(description='CID', options=('Anemia refratária com excesso de blastos', 'Anemia…"
      ]
     },
     "metadata": {},
     "output_type": "display_data"
    }
   ],
   "source": [
    "ufs = ['Brasil']\n",
    "ufs = ufs + (list(hemato.UF_ZI.values.categories))\n",
    "ufs\n",
    "\n",
    "@interact\n",
    "def plot_cid_year(CID = hemato.DESCR_CID.values.categories, \n",
    "                  UF = ufs):\n",
    "    if UF == 'Brasil':\n",
    "        table = pd.pivot_table(hemato, values='N_AIH', index='DESCR_CID', columns=['ANO_CMPT'], \n",
    "                               aggfunc=np.count_nonzero)\n",
    "    else:\n",
    "        table = pd.pivot_table(hemato[hemato.UF_ZI == UF], \n",
    "                               values='N_AIH', index='DESCR_CID', columns=['ANO_CMPT'], \n",
    "                               aggfunc=np.count_nonzero)\n",
    "\n",
    "    try:\n",
    "        data = table.loc[CID]\n",
    "    except KeyError:\n",
    "        return print(f'Não existe registro de {CID} neste estado.')\n",
    "\n",
    "    plt.figure(figsize=(10, 5))\n",
    "\n",
    "    ax = sns.lineplot(data=data)\n",
    "    plt.xlabel('ano')\n",
    "    plt.ylabel(CID)\n",
    "    plt.title(f\"Internações por ano, {UF}:\")\n",
    "    \n",
    "    return plt.show()"
   ]
  },
  {
   "cell_type": "markdown",
   "metadata": {},
   "source": [
    "## Mortalidade"
   ]
  },
  {
   "cell_type": "code",
   "execution_count": 9,
   "metadata": {
    "ExecuteTime": {
     "end_time": "2019-08-06T21:42:33.455101Z",
     "start_time": "2019-08-06T21:42:33.197177Z"
    }
   },
   "outputs": [
    {
     "data": {
      "application/vnd.jupyter.widget-view+json": {
       "model_id": "c3f536b0951b48c1b95b671ddd01b8d1",
       "version_major": 2,
       "version_minor": 0
      },
      "text/plain": [
       "interactive(children=(Dropdown(description='CID', options=('Anemia refratária com excesso de blastos', 'Anemia…"
      ]
     },
     "metadata": {},
     "output_type": "display_data"
    }
   ],
   "source": [
    "ufs = ['Brasil']\n",
    "ufs = ufs + (list(hemato.UF_ZI.values.categories))\n",
    "ufs\n",
    "\n",
    "@interact\n",
    "def plot_cid_year(CID = hemato.DESCR_CID.values.categories, \n",
    "                  UF = ufs):\n",
    "    if UF == 'Brasil':\n",
    "        table = pd.pivot_table(hemato, values='MORTE', index='DESCR_CID', \n",
    "                               columns=['ANO_CMPT'], aggfunc=np.mean)\n",
    "    else:\n",
    "        table = pd.pivot_table(hemato[hemato.UF_ZI == UF], \n",
    "                               values='MORTE', index='DESCR_CID', \n",
    "                               columns=['ANO_CMPT'], aggfunc=np.mean)\n",
    "    try:\n",
    "        data = table.loc[CID]\n",
    "    except KeyError:\n",
    "        return print(f'Não existe registro de {CID} neste estado.')\n",
    "\n",
    "    plt.figure(figsize=(10, 5))\n",
    "\n",
    "    ax = sns.lineplot(data=data)\n",
    "    plt.xlabel('ano')\n",
    "    plt.ylabel(CID)\n",
    "    plt.title(f\"Índice de mortalidade por ano, {UF}:\")\n",
    "    \n",
    "    return plt.show()"
   ]
  },
  {
   "cell_type": "markdown",
   "metadata": {},
   "source": [
    "## Distribuição de idade"
   ]
  },
  {
   "cell_type": "code",
   "execution_count": null,
   "metadata": {},
   "outputs": [],
   "source": []
  },
  {
   "cell_type": "code",
   "execution_count": 10,
   "metadata": {
    "ExecuteTime": {
     "end_time": "2019-08-06T21:42:37.777090Z",
     "start_time": "2019-08-06T21:42:37.607276Z"
    }
   },
   "outputs": [
    {
     "data": {
      "application/vnd.jupyter.widget-view+json": {
       "model_id": "b6431ba9d3354409ae3aed92a3b8d374",
       "version_major": 2,
       "version_minor": 0
      },
      "text/plain": [
       "interactive(children=(Dropdown(description='CID', options=('Anemia refratária com excesso de blastos', 'Anemia…"
      ]
     },
     "metadata": {},
     "output_type": "display_data"
    }
   ],
   "source": [
    "ufs = ['Brasil']\n",
    "ufs = ufs + (list(hemato.UF_ZI.values.categories))\n",
    "\n",
    "years = ['Todos']\n",
    "years = years + (list(hemato.ANO_CMPT.values.categories))\n",
    "\n",
    "@interact\n",
    "def plot_cid_year(CID = hemato.DESCR_CID.values.categories, \n",
    "                  UF = ufs, ANO = years):\n",
    "    plt.figure(figsize=(10, 5))\n",
    "    try:\n",
    "        if UF == 'Brasil' and ANO == 'Todos':\n",
    "            ax = sns.distplot(hemato[hemato.DESCR_CID == CID].IDADE, kde=False)\n",
    "        elif UF == 'Brasil' and ANO != 'Todos':\n",
    "            ax = sns.distplot(hemato[(hemato.DESCR_CID == CID) & (hemato.ANO_CMPT == ANO)].IDADE, \n",
    "                              kde=False)\n",
    "        elif UF != 'Brasil' and ANO == 'Todos':\n",
    "            sns.distplot(hemato[(hemato.DESCR_CID == CID) & (hemato.UF_ZI == UF)].IDADE, kde=False)\n",
    "        else:\n",
    "            sns.distplot(hemato[(hemato.DESCR_CID == CID) & (hemato.UF_ZI == UF) & (hemato.ANO_CMPT == ANO)].IDADE, \n",
    "                         kde=False)\n",
    "    except KeyError:\n",
    "        return print(f'Não existe registro de {CID}, {UF}.')\n",
    "    plt.xlabel('Idade')\n",
    "    plt.ylabel('Número de internações')\n",
    "    plt.title(f\"Distribuição por idade, {CID}, {UF}:\")\n",
    "    \n",
    "    return plt.show()"
   ]
  },
  {
   "cell_type": "markdown",
   "metadata": {},
   "source": [
    "## Custo das internações"
   ]
  },
  {
   "cell_type": "code",
   "execution_count": 11,
   "metadata": {
    "ExecuteTime": {
     "end_time": "2019-08-06T21:42:39.394806Z",
     "start_time": "2019-08-06T21:42:39.048213Z"
    }
   },
   "outputs": [
    {
     "data": {
      "application/vnd.jupyter.widget-view+json": {
       "model_id": "af721eae67a7463b916fa33496950345",
       "version_major": 2,
       "version_minor": 0
      },
      "text/plain": [
       "interactive(children=(Dropdown(description='CID', options=('Anemia refratária com excesso de blastos', 'Anemia…"
      ]
     },
     "metadata": {},
     "output_type": "display_data"
    }
   ],
   "source": [
    "ufs = ['Brasil']\n",
    "ufs = ufs + (list(hemato.UF_ZI.values.categories))\n",
    "ufs\n",
    "\n",
    "@interact\n",
    "def plot_cid_year(CID = hemato.DESCR_CID.values.categories, \n",
    "                  UF = ufs, ANO = years):\n",
    "    plt.figure(figsize=(10, 5))\n",
    "    try:\n",
    "        if UF == 'Brasil' and ANO == 'Todos':\n",
    "            ax = sns.distplot(hemato[hemato.DESCR_CID == CID].US_TOT, kde=False)\n",
    "        elif UF == 'Brasil' and ANO != 'Todos':\n",
    "            ax = sns.distplot(hemato[(hemato.DESCR_CID == CID) & (hemato.ANO_CMPT == ANO)].US_TOT, \n",
    "                              kde=False)\n",
    "        elif UF != 'Brasil' and ANO == 'Todos':\n",
    "            sns.distplot(hemato[(hemato.DESCR_CID == CID) & (hemato.UF_ZI == UF)].US_TOT, kde=False)\n",
    "        else:\n",
    "            sns.distplot(hemato[(hemato.DESCR_CID == CID) & (hemato.UF_ZI == UF) & (hemato.ANO_CMPT == ANO)].US_TOT, \n",
    "                         kde=False)\n",
    "    except KeyError:\n",
    "        return print(f'Não existe registro de {CID}, {UF}.')\n",
    "    plt.ylabel('Número de internações, escala logarítmica')\n",
    "    plt.yscale('log')\n",
    "    plt.xlabel('Repasse de AIH, em US$')\n",
    "    plt.title(f\"Repasse de AIH, em dólar, {CID}, {UF}:\")\n",
    "    \n",
    "    return plt.show()"
   ]
  },
  {
   "cell_type": "code",
   "execution_count": null,
   "metadata": {},
   "outputs": [],
   "source": []
  },
  {
   "cell_type": "code",
   "execution_count": null,
   "metadata": {},
   "outputs": [],
   "source": []
  }
 ],
 "metadata": {
  "kernelspec": {
   "display_name": "Python 3",
   "language": "python",
   "name": "python3"
  },
  "language_info": {
   "codemirror_mode": {
    "name": "ipython",
    "version": 3
   },
   "file_extension": ".py",
   "mimetype": "text/x-python",
   "name": "python",
   "nbconvert_exporter": "python",
   "pygments_lexer": "ipython3",
   "version": "3.6.5"
  },
  "toc": {
   "base_numbering": 1,
   "nav_menu": {},
   "number_sections": true,
   "sideBar": true,
   "skip_h1_title": false,
   "title_cell": "Table of Contents",
   "title_sidebar": "Contents",
   "toc_cell": true,
   "toc_position": {},
   "toc_section_display": true,
   "toc_window_display": false
  }
 },
 "nbformat": 4,
 "nbformat_minor": 2
}
