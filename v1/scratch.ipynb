{
 "cells": [
  {
   "cell_type": "code",
   "execution_count": null,
   "metadata": {},
   "outputs": [],
   "source": [
    "sex_map, cnes_map, uf_map, cid_map, et_map, \\\n",
    "financ_map, cbo_map, comp_map, mun_map, caratend_map = make_maps()\n",
    "\n",
    "pop_df = pop_ibge()"
   ]
  },
  {
   "cell_type": "code",
   "execution_count": null,
   "metadata": {},
   "outputs": [],
   "source": [
    "hemato = pd.read_parquet('all_hemato.parquet')\n",
    "opt_cols = optimize_df(hemato)\n",
    "hemato = hemato.astype(opt_cols)\n",
    "\n",
    "hemato.head()"
   ]
  }
 ],
 "metadata": {
  "kernelspec": {
   "display_name": "Python 3",
   "language": "python",
   "name": "python3"
  },
  "language_info": {
   "codemirror_mode": {
    "name": "ipython",
    "version": 3
   },
   "file_extension": ".py",
   "mimetype": "text/x-python",
   "name": "python",
   "nbconvert_exporter": "python",
   "pygments_lexer": "ipython3",
   "version": "3.6.5"
  }
 },
 "nbformat": 4,
 "nbformat_minor": 2
}
